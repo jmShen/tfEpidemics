{
 "cells": [
  {
   "cell_type": "code",
   "execution_count": 2,
   "metadata": {
    "collapsed": true
   },
   "outputs": [],
   "source": [
    "import coordinate as cr\n",
    "import distanceTF as dt"
   ]
  },
  {
   "cell_type": "code",
   "execution_count": 3,
   "metadata": {
    "collapsed": false
   },
   "outputs": [
    {
     "name": "stdout",
     "output_type": "stream",
     "text": [
      "[[ 73.66122812  94.57641182]\n",
      " [ 69.51764532  78.25251715]\n",
      " [ 15.46602672  20.63667199]\n",
      " ..., \n",
      " [ 17.70440093  44.8511369 ]\n",
      " [ 12.66852625  44.74203778]\n",
      " [  6.80800058  98.38728562]]\n"
     ]
    }
   ],
   "source": [
    "coordinate=cr.geodata(10000)"
   ]
  },
  {
   "cell_type": "code",
   "execution_count": 4,
   "metadata": {
    "collapsed": false
   },
   "outputs": [
    {
     "name": "stdout",
     "output_type": "stream",
     "text": [
      "CPU times: user 11.4 s, sys: 3.05 s, total: 14.5 s\n",
      "Wall time: 5.84 s\n"
     ]
    },
    {
     "data": {
      "text/plain": [
       "array([[  0.        ,  16.84157996,  94.0944557 , ...,  74.85832936,\n",
       "         78.76277368,  66.96175619],\n",
       "       [ 16.84157996,   0.        ,  79.00103219, ...,  61.64628534,\n",
       "         65.99071576,  65.86280016],\n",
       "       [ 94.0944557 ,  79.00103219,   0.        , ...,  24.317702  ,\n",
       "         24.26715206,  78.23119159],\n",
       "       ..., \n",
       "       [ 74.85832936,  61.64628534,  24.317702  , ...,   0.        ,\n",
       "          5.03705632,  54.63378771],\n",
       "       [ 78.76277368,  65.99071576,  24.26715206, ...,   5.03705632,\n",
       "          0.        ,  53.96441769],\n",
       "       [ 66.96175619,  65.86280016,  78.23119159, ...,  54.63378771,\n",
       "         53.96441769,   0.        ]])"
      ]
     },
     "execution_count": 4,
     "metadata": {},
     "output_type": "execute_result"
    }
   ],
   "source": [
    "%time dt.Distance(coordinate)"
   ]
  },
  {
   "cell_type": "code",
   "execution_count": 5,
   "metadata": {
    "collapsed": false
   },
   "outputs": [
    {
     "name": "stdout",
     "output_type": "stream",
     "text": [
      "CPU times: user 864 ms, sys: 180 ms, total: 1.04 s\n",
      "Wall time: 1.04 s\n"
     ]
    },
    {
     "data": {
      "text/plain": [
       "array([[  0.        ,  16.84157996,  94.0944557 , ...,  74.85832936,\n",
       "         78.76277368,  66.96175619],\n",
       "       [ 16.84157996,   0.        ,  79.00103219, ...,  61.64628534,\n",
       "         65.99071576,  65.86280016],\n",
       "       [ 94.0944557 ,  79.00103219,   0.        , ...,  24.317702  ,\n",
       "         24.26715206,  78.23119159],\n",
       "       ..., \n",
       "       [ 74.85832936,  61.64628534,  24.317702  , ...,   0.        ,\n",
       "          5.03705632,  54.63378771],\n",
       "       [ 78.76277368,  65.99071576,  24.26715206, ...,   5.03705632,\n",
       "          0.        ,  53.96441769],\n",
       "       [ 66.96175619,  65.86280016,  78.23119159, ...,  54.63378771,\n",
       "         53.96441769,   0.        ]])"
      ]
     },
     "execution_count": 5,
     "metadata": {},
     "output_type": "execute_result"
    }
   ],
   "source": [
    "%time cr.DistanceMatrix(coordinate)"
   ]
  },
  {
   "cell_type": "code",
   "execution_count": null,
   "metadata": {
    "collapsed": true
   },
   "outputs": [],
   "source": []
  }
 ],
 "metadata": {
  "kernelspec": {
   "display_name": "Python 2",
   "language": "python",
   "name": "python2"
  },
  "language_info": {
   "codemirror_mode": {
    "name": "ipython",
    "version": 2
   },
   "file_extension": ".py",
   "mimetype": "text/x-python",
   "name": "python",
   "nbconvert_exporter": "python",
   "pygments_lexer": "ipython2",
   "version": "2.7.6"
  }
 },
 "nbformat": 4,
 "nbformat_minor": 0
}
